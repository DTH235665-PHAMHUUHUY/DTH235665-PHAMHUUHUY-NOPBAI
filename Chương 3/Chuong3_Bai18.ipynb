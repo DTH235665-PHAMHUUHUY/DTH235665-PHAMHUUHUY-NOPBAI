{
 "cells": [
  {
   "cell_type": "code",
   "execution_count": 16,
   "id": "a5898500",
   "metadata": {},
   "outputs": [
    {
     "name": "stdout",
     "output_type": "stream",
     "text": [
      "****\n",
      "*  *\n",
      "*  *\n",
      "****\n"
     ]
    }
   ],
   "source": [
    "for i in range(4):        \n",
    "    for j in range(4):     \n",
    "        if i == 0 or i == 3 or j == 0 or j == 3:\n",
    "            print(\"*\", end=\"\")   \n",
    "        else:\n",
    "            print(\" \", end=\"\")  \n",
    "    print()"
   ]
  },
  {
   "cell_type": "code",
   "execution_count": null,
   "id": "82dd1a36",
   "metadata": {},
   "outputs": [
    {
     "name": "stdout",
     "output_type": "stream",
     "text": [
      "   *\n",
      "  **\n",
      " ***\n",
      "****\n"
     ]
    }
   ],
   "source": [
    "n = 4\n",
    "for i in range(1, n+1):        \n",
    "    for j in range(n - i):     \n",
    "        print(\" \", end=\"\")\n",
    "    for j in range(i):       \n",
    "        print(\"*\", end=\"\")\n",
    "    print()\n"
   ]
  },
  {
   "cell_type": "code",
   "execution_count": 1,
   "id": "637c0ff8",
   "metadata": {},
   "outputs": [
    {
     "name": "stdout",
     "output_type": "stream",
     "text": [
      "*             \n",
      "* *           \n",
      "*   *         \n",
      "* * * * * * * \n",
      "        *   * \n",
      "          * * \n",
      "            * \n"
     ]
    }
   ],
   "source": [
    "\n",
    "#Hình Tam Giác Đối\n",
    "def ve_hinh():\n",
    "    # Danh sách tọa độ (hàng, cột) của các dấu *\n",
    "    toa_do = [\n",
    "        (0, 0), (1, 0), (2, 0), (3, 0),  #4 dấu * ở cột đầu\n",
    "        (3, 1), (3, 2), (3, 3), (3, 4), (3, 5), #dấu * ở hàng giữa\n",
    "        (3, 6), (4, 6), (5, 6), (6, 6), #4 dấu * ở cột cuối\n",
    "        (1, 1), (2, 2), (4, 4), (5, 5), (6, 6) #dấu * đường chéo\n",
    "    ]\n",
    "\n",
    "    # Xác định kích thước lưới\n",
    "    max_hang = max(y for y, x in toa_do)\n",
    "    max_cot = max(x for y, x in toa_do)\n",
    "\n",
    "    # Duyệt qua từng dòng để in\n",
    "    for i in range(max_hang + 1):\n",
    "        for j in range(max_cot + 1):\n",
    "            if (i, j) in toa_do:\n",
    "                print(\"*\", end=\" \")\n",
    "            else:\n",
    "                print(\" \", end=\" \")\n",
    "        print()\n",
    "\n",
    "# Gọi hàm để in hình\n",
    "ve_hinh()\n",
    "\n"
   ]
  }
 ],
 "metadata": {
  "kernelspec": {
   "display_name": "Python 3",
   "language": "python",
   "name": "python3"
  },
  "language_info": {
   "codemirror_mode": {
    "name": "ipython",
    "version": 3
   },
   "file_extension": ".py",
   "mimetype": "text/x-python",
   "name": "python",
   "nbconvert_exporter": "python",
   "pygments_lexer": "ipython3",
   "version": "3.9.6"
  }
 },
 "nbformat": 4,
 "nbformat_minor": 5
}

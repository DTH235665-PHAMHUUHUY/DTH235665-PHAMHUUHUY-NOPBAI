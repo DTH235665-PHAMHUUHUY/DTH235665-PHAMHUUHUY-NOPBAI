{
 "cells": [
  {
   "cell_type": "code",
   "execution_count": 16,
   "id": "a5898500",
   "metadata": {},
   "outputs": [
    {
     "name": "stdout",
     "output_type": "stream",
     "text": [
      "****\n",
      "*  *\n",
      "*  *\n",
      "****\n"
     ]
    }
   ],
   "source": [
    "for i in range(4):        \n",
    "    for j in range(4):     \n",
    "        if i == 0 or i == 3 or j == 0 or j == 3:\n",
    "            print(\"*\", end=\"\")   \n",
    "        else:\n",
    "            print(\" \", end=\"\")  \n",
    "    print()"
   ]
  },
  {
   "cell_type": "code",
   "execution_count": null,
   "id": "82dd1a36",
   "metadata": {},
   "outputs": [
    {
     "name": "stdout",
     "output_type": "stream",
     "text": [
      "   *\n",
      "  **\n",
      " ***\n",
      "****\n"
     ]
    }
   ],
   "source": [
    "n = 4\n",
    "for i in range(1, n+1):        \n",
    "    for j in range(n - i):     \n",
    "        print(\" \", end=\"\")\n",
    "    for j in range(i):       \n",
    "        print(\"*\", end=\"\")\n",
    "    print()\n"
   ]
  }
 ],
 "metadata": {
  "kernelspec": {
   "display_name": "Python 3",
   "language": "python",
   "name": "python3"
  },
  "language_info": {
   "codemirror_mode": {
    "name": "ipython",
    "version": 3
   },
   "file_extension": ".py",
   "mimetype": "text/x-python",
   "name": "python",
   "nbconvert_exporter": "python",
   "pygments_lexer": "ipython3",
   "version": "3.13.7"
  }
 },
 "nbformat": 4,
 "nbformat_minor": 5
}

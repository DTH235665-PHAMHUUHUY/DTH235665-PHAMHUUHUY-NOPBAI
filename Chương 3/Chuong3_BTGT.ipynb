{
 "cells": [
  {
   "cell_type": "code",
   "execution_count": 1,
   "id": "7688ffed",
   "metadata": {},
   "outputs": [
    {
     "name": "stdout",
     "output_type": "stream",
     "text": [
      "Kết quả: 4\n"
     ]
    }
   ],
   "source": [
    "#Câu 1\n",
    "# Bài tập thực hành: Đổi chữ cái đầu mỗi từ thành chữ hoa\n",
    "\n",
    "s = input(\"Nhập câu: \")\n",
    "# Tách các từ bằng khoảng trắng hoặc tab, viết hoa chữ cái đầu mỗi từ\n",
    "result = ' '.join(word.capitalize() for word in s.split())\n",
    "print(\"Kết quả:\", result)"
   ]
  },
  {
   "cell_type": "code",
   "execution_count": 4,
   "id": "e4cfbada",
   "metadata": {},
   "outputs": [
    {
     "name": "stdout",
     "output_type": "stream",
     "text": [
      "Chiều dài chuỗi: 20\n",
      "Ký tự đầu: 2\n",
      "Ký tự cuối:  \n",
      "Các ký tự từ vị trí 3 đến 1 : \n"
     ]
    }
   ],
   "source": [
    "# Câu 2\n",
    "s = input(\"Nhập chuỗi: \")\n",
    "print(\"Chiều dài chuỗi:\", len(s))\n",
    "print(\"Ký tự đầu:\", s[0] if s else \"\")\n",
    "print(\"Ký tự cuối:\", s[-1] if s else \"\")\n",
    "i = int(input(\"Nhập vị trí i: \"))\n",
    "j = int(input(\"Nhập vị trí j: \"))\n",
    "print(\"Các ký tự từ vị trí\", i, \"đến\", j, \":\", s[i:j+1])"
   ]
  },
  {
   "cell_type": "code",
   "execution_count": 5,
   "id": "cac22f68",
   "metadata": {},
   "outputs": [
    {
     "name": "stdout",
     "output_type": "stream",
     "text": [
      "00000\n",
      "00001\n",
      "00010\n",
      "00011\n",
      "00100\n",
      "00101\n",
      "00110\n",
      "00111\n",
      "01000\n",
      "01001\n",
      "01010\n",
      "01011\n",
      "01100\n",
      "01101\n",
      "01110\n",
      "01111\n",
      "10000\n",
      "10001\n",
      "10010\n",
      "10011\n",
      "10100\n",
      "10101\n",
      "10110\n",
      "10111\n",
      "11000\n",
      "11001\n",
      "11010\n",
      "11011\n",
      "11100\n",
      "11101\n",
      "11110\n",
      "11111\n"
     ]
    }
   ],
   "source": [
    "# Câu 3\n",
    "n = int(input(\"Nhập chiều dài n: \"))\n",
    "for i in range(2**n):\n",
    "    print(bin(i)[2:].zfill(n))\n"
   ]
  },
  {
   "cell_type": "code",
   "execution_count": 6,
   "id": "89fe1cac",
   "metadata": {},
   "outputs": [
    {
     "name": "stdout",
     "output_type": "stream",
     "text": [
      "Chuỗi đảo ngược: 4\n",
      "Số chữ cái: 0\n",
      "Số chữ số: 1\n"
     ]
    }
   ],
   "source": [
    "# Câu 4\n",
    "s = input(\"Nhập chuỗi: \")\n",
    "print(\"Chuỗi đảo ngược:\", s[::-1])\n",
    "so_chu_cai = sum(c.isalpha() for c in s)\n",
    "so_chu_so = sum(c.isdigit() for c in s)\n",
    "print(\"Số chữ cái:\", so_chu_cai)\n",
    "print(\"Số chữ số:\", so_chu_so)"
   ]
  },
  {
   "cell_type": "code",
   "execution_count": 8,
   "id": "3f568dd3",
   "metadata": {},
   "outputs": [
    {
     "name": "stdout",
     "output_type": "stream",
     "text": [
      "Chuỗi không đối xứng\n"
     ]
    }
   ],
   "source": [
    "# Câu 5\n",
    "s = input(\"Nhập chuỗi: \")\n",
    "if s == s[::-1]:\n",
    "    print(\"Chuỗi đối xứng\")\n",
    "else:\n",
    "    print(\"Chuỗi không đối xứng\")"
   ]
  },
  {
   "cell_type": "code",
   "execution_count": 9,
   "id": "a0159c7d",
   "metadata": {},
   "outputs": [
    {
     "name": "stdout",
     "output_type": "stream",
     "text": [
      "Chuỗi con chung dài nhất: 8\n"
     ]
    }
   ],
   "source": [
    "# Câu 6\n",
    "def longest_common_substring(s1, s2):\n",
    "    max_len = 0\n",
    "    res = \"\"\n",
    "    for i in range(len(s1)):\n",
    "        for j in range(i+1, len(s1)+1):\n",
    "            sub = s1[i:j]\n",
    "            if sub in s2 and len(sub) > max_len:\n",
    "                max_len = len(sub)\n",
    "                res = sub\n",
    "    return res\n",
    "\n",
    "s1 = input(\"Nhập chuỗi 1: \")\n",
    "s2 = input(\"Nhập chuỗi 2: \")\n",
    "print(\"Chuỗi con chung dài nhất:\", longest_common_substring(s1, s2))"
   ]
  },
  {
   "cell_type": "code",
   "execution_count": 10,
   "id": "1cdc8b5c",
   "metadata": {},
   "outputs": [
    {
     "name": "stdout",
     "output_type": "stream",
     "text": [
      "Số ký tự ít nhất cần thêm: 0\n"
     ]
    }
   ],
   "source": [
    "# Câu 7\n",
    "def min_add_to_palindrome(s):\n",
    "    for i in range(len(s)):\n",
    "        if s[i:] == s[i:][::-1]:\n",
    "            return i\n",
    "    return len(s)\n",
    "\n",
    "S = input(\"Nhập chuỗi S: \")\n",
    "print(\"Số ký tự ít nhất cần thêm:\", min_add_to_palindrome(S))"
   ]
  },
  {
   "cell_type": "code",
   "execution_count": 11,
   "id": "01e6f482",
   "metadata": {},
   "outputs": [
    {
     "name": "stdout",
     "output_type": "stream",
     "text": [
      "Không tìm thấy.\n"
     ]
    }
   ],
   "source": [
    "# Câu 8\n",
    "s1 = input(\"Nhập chuỗi s1: \")\n",
    "s2 = input(\"Nhập chuỗi s2: \")\n",
    "pos = s1.find(s2)\n",
    "if pos != -1:\n",
    "    print(f\"Chuỗi s2 xuất hiện ở vị trí {pos} trong s1.\")\n",
    "else:\n",
    "    print(\"Không tìm thấy.\")"
   ]
  },
  {
   "cell_type": "code",
   "execution_count": 12,
   "id": "f0ec0afd",
   "metadata": {},
   "outputs": [
    {
     "name": "stdout",
     "output_type": "stream",
     "text": [
      "Chuỗi CCCD hợp lệ\n"
     ]
    }
   ],
   "source": [
    "# Câu 9\n",
    "cccd = input(\"Nhập chuỗi CCCD: \")\n",
    "if cccd.isdigit() and 9 <= len(cccd) <= 12:\n",
    "    print(\"Chuỗi CCCD hợp lệ\")\n",
    "else:\n",
    "    print(\"Chuỗi CCCD không hợp lệ\")"
   ]
  },
  {
   "cell_type": "code",
   "execution_count": 13,
   "id": "022544cc",
   "metadata": {},
   "outputs": [
    {
     "name": "stdout",
     "output_type": "stream",
     "text": [
      "Địa chỉ email hợp lệ\n"
     ]
    }
   ],
   "source": [
    "# Câu 10\n",
    "email = input(\"Nhập địa chỉ email: \")\n",
    "if \"@\" in email and \".\" in email and email.count(\"@\") == 1:\n",
    "    at_pos = email.index(\"@\")\n",
    "    dot_pos = email.rindex(\".\")\n",
    "    if at_pos > 0 and dot_pos > at_pos + 1 and dot_pos < len(email) - 1:\n",
    "        print(\"Địa chỉ email hợp lệ\")\n",
    "    else:\n",
    "        print(\"Địa chỉ email không hợp lệ\")\n",
    "else:\n",
    "    print(\"Địa chỉ email không hợp lệ\")"
   ]
  },
  {
   "cell_type": "code",
   "execution_count": 16,
   "id": "f40eb066",
   "metadata": {},
   "outputs": [
    {
     "name": "stdout",
     "output_type": "stream",
     "text": [
      "Các số trên các dòng riêng biệt:\n",
      "3\n",
      "-1\n",
      "2\n",
      "4\n",
      "8\n",
      "10\n",
      "Có 4 chữ số chẵn\n",
      "Có 1 chữ số âm\n",
      "Có 2 chữ số nguyên tố\n",
      "Giá trị trung bình của các chữ số: 4.33\n"
     ]
    }
   ],
   "source": [
    "# Câu 11: Xử lý tách chuỗi số\n",
    "s = input(\"Nhập chuỗi số, cách nhau bởi dấu ; hoặc ,: \")\n",
    "# Tách các số, loại bỏ khoảng trắng\n",
    "nums = [x.strip() for x in s.replace(',', ';').split(';') if x.strip() != '']\n",
    "nums_int = []\n",
    "for x in nums:\n",
    "    try:\n",
    "        nums_int.append(int(x))\n",
    "    except ValueError:\n",
    "        pass\n",
    "\n",
    "print(\"Các số trên các dòng riêng biệt:\")\n",
    "for n in nums_int:\n",
    "    print(n)\n",
    "\n",
    "print(\"Có\", sum(n % 2 == 0 for n in nums_int), \"chữ số chẵn\")\n",
    "print(\"Có\", sum(n < 0 for n in nums_int), \"chữ số âm\")\n",
    "\n",
    "def is_prime(n):\n",
    "    if n < 2: return False\n",
    "    for i in range(2, int(abs(n)**0.5)+1):\n",
    "        if n % i == 0: return False\n",
    "    return True\n",
    "\n",
    "print(\"Có\", sum(is_prime(n) for n in nums_int), \"chữ số nguyên tố\")\n",
    "if nums_int:\n",
    "    print(\"Giá trị trung bình của các chữ số:\", round(sum(nums_int)/len(nums_int), 2))\n",
    "else:\n",
    "    print(\"Không có số hợp lệ.\")"
   ]
  },
  {
   "cell_type": "code",
   "execution_count": 18,
   "id": "d7522d3d",
   "metadata": {},
   "outputs": [
    {
     "name": "stdout",
     "output_type": "stream",
     "text": [
      "Số chữ IN HOA: 3\n",
      "Số chữ in thường: 7\n",
      "Số chữ là chữ số: 0\n",
      "Số ký tự đặc biệt: 2\n",
      "Số ký tự là khoảng trắng: 2\n",
      "Số chữ là Nguyên Âm: 2\n",
      "Số chữ là Phụ Âm: 6\n"
     ]
    }
   ],
   "source": [
    "# Câu 12: Thống kê ký tự trong chuỗi\n",
    "s = input(\"Nhập chuỗi: \")\n",
    "\n",
    "so_in_hoa = sum(c.isupper() for c in s)\n",
    "so_thuong = sum(c.islower() for c in s)\n",
    "so_chu_so = sum(c.isdigit() for c in s)\n",
    "so_dac_biet = sum(not c.isalnum() for c in s)\n",
    "so_khoang_trang = sum(c.isspace() for c in s)\n",
    "\n",
    "nguyen_am = \"aeiouAEIOU\"\n",
    "phu_am = \"bcdfghjklmnpqrstvwxyzBCDFGHJKLMNPQRSTVWXYZ\"\n",
    "\n",
    "so_nguyen_am = sum(c in nguyen_am for c in s)\n",
    "so_phu_am = sum(c in phu_am for c in s)\n",
    "\n",
    "print(\"Số chữ IN HOA:\", so_in_hoa)\n",
    "print(\"Số chữ in thường:\", so_thuong)\n",
    "print(\"Số chữ là chữ số:\", so_chu_so)\n",
    "print(\"Số ký tự đặc biệt:\", so_dac_biet)\n",
    "print(\"Số ký tự là khoảng trắng:\", so_khoang_trang)\n",
    "print(\"Số chữ là Nguyên Âm:\", so_nguyen_am)\n",
    "print(\"Số chữ là Phụ Âm:\", so_phu_am)"
   ]
  },
  {
   "cell_type": "code",
   "execution_count": 19,
   "id": "2b7201b6",
   "metadata": {},
   "outputs": [
    {
     "name": "stdout",
     "output_type": "stream",
     "text": [
      "Các số nguyên âm trong chuỗi là: []\n"
     ]
    }
   ],
   "source": [
    "# Câu 13: Trích lọc số âm trong chuỗi\n",
    "import re\n",
    "\n",
    "def NegativeNumberInStrings(s):\n",
    "    # Tìm tất cả số nguyên âm, có thể có nhiều ký tự giữa các số\n",
    "    return [int(x) for x in re.findall(r'-\\d+', s)]\n",
    "\n",
    "chuoi = input(\"Nhập chuỗi: \")\n",
    "so_am = NegativeNumberInStrings(chuoi)\n",
    "print(\"Các số nguyên âm trong chuỗi là:\", so_am)"
   ]
  },
  {
   "cell_type": "code",
   "execution_count": 20,
   "id": "bae5a3de",
   "metadata": {},
   "outputs": [
    {
     "name": "stdout",
     "output_type": "stream",
     "text": [
      "Chuỗi họ tên sau khi chuẩn hóa là: Phạm Hữu Huy\n"
     ]
    }
   ],
   "source": [
    "# Câu 14: Chuẩn hóa chuỗi họ tên\n",
    "\n",
    "def chuan_hoa_ho_ten(s):\n",
    "    # Loại bỏ khoảng trắng đầu/cuối\n",
    "    s = s.strip()\n",
    "    # Tách các từ, loại bỏ khoảng trắng thừa giữa các từ\n",
    "    words = [w for w in s.split() if w]\n",
    "    # Viết hoa chữ cái đầu mỗi từ, các ký tự còn lại viết thường\n",
    "    return ' '.join(w.capitalize() for w in words)\n",
    "\n",
    "s = input(\"Nhập họ tên: \")\n",
    "print(\"Chuỗi họ tên sau khi chuẩn hóa là:\", chuan_hoa_ho_ten(s))"
   ]
  },
  {
   "cell_type": "code",
   "execution_count": 21,
   "id": "333d58b9",
   "metadata": {},
   "outputs": [
    {
     "name": "stdout",
     "output_type": "stream",
     "text": [
      "Các mật khẩu hợp lệ là: \n"
     ]
    }
   ],
   "source": [
    "# Câu 15: Kiểm tra tính hợp lệ của mật khẩu\n",
    "\n",
    "def mat_khau_hop_le(pw):\n",
    "    if not (6 <= len(pw) <= 12):\n",
    "        return False\n",
    "    if not any(c.islower() for c in pw):\n",
    "        return False\n",
    "    if not any(c.isupper() for c in pw):\n",
    "        return False\n",
    "    if not any(c.isdigit() for c in pw):\n",
    "        return False\n",
    "    if not any(c in \"@#$\" for c in pw):\n",
    "        return False\n",
    "    return True\n",
    "\n",
    "s = input(\"Nhập các mật khẩu, cách nhau bởi dấu phẩy: \")\n",
    "mat_khau_list = [x.strip() for x in s.split(\",\") if x.strip()]\n",
    "hop_le = [pw for pw in mat_khau_list if mat_khau_hop_le(pw)]\n",
    "print(\"Các mật khẩu hợp lệ là:\", ','.join(hop_le))"
   ]
  }
 ],
 "metadata": {
  "kernelspec": {
   "display_name": "Python 3",
   "language": "python",
   "name": "python3"
  },
  "language_info": {
   "codemirror_mode": {
    "name": "ipython",
    "version": 3
   },
   "file_extension": ".py",
   "mimetype": "text/x-python",
   "name": "python",
   "nbconvert_exporter": "python",
   "pygments_lexer": "ipython3",
   "version": "3.9.6"
  }
 },
 "nbformat": 4,
 "nbformat_minor": 5
}

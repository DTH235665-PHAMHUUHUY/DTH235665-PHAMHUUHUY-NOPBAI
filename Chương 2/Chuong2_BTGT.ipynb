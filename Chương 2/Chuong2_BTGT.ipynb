{
 "cells": [
  {
   "cell_type": "code",
   "execution_count": 2,
   "id": "f8d22c7a",
   "metadata": {},
   "outputs": [
    {
     "name": "stdout",
     "output_type": "stream",
     "text": [
      "Tổng số tiền sau 18 tháng là: 2.04\n"
     ]
    }
   ],
   "source": [
    "# Bài 1: Tính tổng tiền sau 18 tháng gửi tiết kiệm, lãi suất 0.6%/tháng, cứ 6 tháng cộng lãi vào gốc\n",
    "\n",
    "X = float(input(\"Nhập số tiền ban đầu (X): \"))\n",
    "lai_suat_thang = 0.006\n",
    "so_thang = 18\n",
    "\n",
    "tien = X\n",
    "for thang in range(1, so_thang + 1):\n",
    "    tien_lai = tien * lai_suat_thang\n",
    "    if thang % 6 == 0:\n",
    "        tien += tien_lai  # Cộng lãi vào gốc mỗi 6 tháng\n",
    "    else:\n",
    "        pass  # Lãi chưa cộng vào gốc, chỉ tính trên gốc hiện tại\n",
    "\n",
    "print(\"Tổng số tiền sau 18 tháng là:\", round(tien, 2))"
   ]
  },
  {
   "cell_type": "code",
   "execution_count": 1,
   "id": "ecd7ea6e",
   "metadata": {},
   "outputs": [
    {
     "name": "stdout",
     "output_type": "stream",
     "text": [
      "Kết quả: 5.0\n"
     ]
    }
   ],
   "source": [
    "# Bài 2: Nhập vào hai số a, b và một ký tự ch. Thực hiện phép toán theo ký tự ch.\n",
    "\n",
    "a = float(input(\"Nhập số a: \"))\n",
    "b = float(input(\"Nhập số b: \"))\n",
    "ch = input(\"Nhập ký tự phép toán (+, -, *, /): \")\n",
    "\n",
    "if ch == '+':\n",
    "    print(\"Kết quả:\", a + b)\n",
    "elif ch == '-':\n",
    "    print(\"Kết quả:\", a - b)\n",
    "elif ch == '*':\n",
    "    print(\"Kết quả:\", a * b)\n",
    "elif ch == '/':\n",
    "    if b != 0:\n",
    "        print(\"Kết quả:\", a / b)\n",
    "    else:\n",
    "        print(\"Lỗi: Không thể chia cho 0!\")\n",
    "else:\n",
    "    print(f\"Ký tự '{ch}' không phải là một toán tử.\")"
   ]
  },
  {
   "cell_type": "code",
   "execution_count": 2,
   "id": "7f1e007a",
   "metadata": {},
   "outputs": [
    {
     "name": "stdout",
     "output_type": "stream",
     "text": [
      "Diện tích hình tròn là: 28.27\n"
     ]
    }
   ],
   "source": [
    "# Bài 3: Tính diện tích hình tròn với bán kính nhập từ bàn phím\n",
    "import math\n",
    "r = float(input(\"Nhập bán kính hình tròn: \"))\n",
    "print(\"Diện tích hình tròn là:\", round(math.pi * r * r, 2))"
   ]
  },
  {
   "cell_type": "code",
   "execution_count": 3,
   "id": "683e7d72",
   "metadata": {},
   "outputs": [
    {
     "name": "stdout",
     "output_type": "stream",
     "text": [
      "Tháng 8 có 31 ngày\n"
     ]
    }
   ],
   "source": [
    "# Bài 4: Nhập vào 1 tháng, xuất ra số ngày của tháng đó\n",
    "month = int(input(\"Nhập tháng (1-12): \"))\n",
    "if month in [1, 3, 5, 7, 8, 10, 12]:\n",
    "    print(\"Tháng\", month, \"có 31 ngày\")\n",
    "elif month in [4, 6, 9, 11]:\n",
    "    print(\"Tháng\", month, \"có 30 ngày\")\n",
    "elif month == 2:\n",
    "    year = int(input(\"Nhập năm: \"))\n",
    "    if (year % 4 == 0 and year % 100 != 0) or (year % 400 == 0):\n",
    "        print(\"Tháng 2 có 29 ngày\")\n",
    "    else:\n",
    "        print(\"Tháng 2 có 28 ngày\")\n",
    "else:\n",
    "    print(\"Tháng không hợp lệ!\")"
   ]
  },
  {
   "cell_type": "code",
   "execution_count": 4,
   "id": "1f9e9219",
   "metadata": {},
   "outputs": [
    {
     "name": "stdout",
     "output_type": "stream",
     "text": [
      "chín mươi tám\n"
     ]
    }
   ],
   "source": [
    "# Bài 5: Đọc số n (tối đa 2 chữ số) ra dạng chữ\n",
    "chu_so = [\"không\", \"một\", \"hai\", \"ba\", \"bốn\", \"năm\", \"sáu\", \"bảy\", \"tám\", \"chín\"]\n",
    "n = int(input(\"Nhập số n (0-99): \"))\n",
    "if 0 <= n <= 9:\n",
    "    print(chu_so[n])\n",
    "elif 10 <= n <= 99:\n",
    "    hang_chuc = n // 10\n",
    "    hang_don_vi = n % 10\n",
    "    if hang_chuc == 1:\n",
    "        if hang_don_vi == 0:\n",
    "            print(\"mười\")\n",
    "        elif hang_don_vi == 5:\n",
    "            print(\"mười lăm\")\n",
    "        else:\n",
    "            print(\"mười\", chu_so[hang_don_vi])\n",
    "    else:\n",
    "        if hang_don_vi == 0:\n",
    "            print(chu_so[hang_chuc], \"mươi\")\n",
    "        elif hang_don_vi == 1:\n",
    "            print(chu_so[hang_chuc], \"mươi mốt\")\n",
    "        elif hang_don_vi == 5:\n",
    "            print(chu_so[hang_chuc], \"mươi lăm\")\n",
    "        else:\n",
    "            print(chu_so[hang_chuc], \"mươi\", chu_so[hang_don_vi])\n",
    "else:\n",
    "    print(\"Vui lòng nhập số từ 0 đến 99.\")"
   ]
  },
  {
   "cell_type": "code",
   "execution_count": 5,
   "id": "a7c7c700",
   "metadata": {},
   "outputs": [
    {
     "name": "stdout",
     "output_type": "stream",
     "text": [
      "Phương trình vô nghiệm\n"
     ]
    }
   ],
   "source": [
    "# Bài 6: Giải phương trình bậc 2: ax^2 + bx + c = 0\n",
    "import math\n",
    "a = float(input(\"Nhập a: \"))\n",
    "b = float(input(\"Nhập b: \"))\n",
    "c = float(input(\"Nhập c: \"))\n",
    "delta = b**2 - 4*a*c\n",
    "if a == 0:\n",
    "    if b == 0:\n",
    "        print(\"Phương trình vô nghiệm\" if c != 0 else \"Phương trình vô số nghiệm\")\n",
    "    else:\n",
    "        print(\"Nghiệm:\", -c/b)\n",
    "else:\n",
    "    if delta < 0:\n",
    "        print(\"Phương trình vô nghiệm\")\n",
    "    elif delta == 0:\n",
    "        print(\"Phương trình có nghiệm kép:\", -b/(2*a))\n",
    "    else:\n",
    "        x1 = (-b + math.sqrt(delta)) / (2*a)\n",
    "        x2 = (-b - math.sqrt(delta)) / (2*a)\n",
    "        print(\"Nghiệm x1 =\", round(x1, 2), \", x2 =\", round(x2, 2))"
   ]
  },
  {
   "cell_type": "code",
   "execution_count": 6,
   "id": "09003cff",
   "metadata": {},
   "outputs": [
    {
     "name": "stdout",
     "output_type": "stream",
     "text": [
      "Kết quả n + n^2 + n^3 là: 39\n"
     ]
    }
   ],
   "source": [
    "# Bài 7: Đọc số nguyên n từ bàn phím, tính n + n^2 + n^3\n",
    "n = int(input(\"Nhập số nguyên n: \"))\n",
    "print(\"Kết quả n + n^2 + n^3 là:\", n + n**2 + n**3)"
   ]
  },
  {
   "cell_type": "code",
   "execution_count": 7,
   "id": "6c411055",
   "metadata": {},
   "outputs": [
    {
     "name": "stdout",
     "output_type": "stream",
     "text": [
      "5 x 1 = 5\n",
      "5 x 2 = 10\n",
      "5 x 3 = 15\n",
      "5 x 4 = 20\n",
      "5 x 5 = 25\n",
      "5 x 6 = 30\n",
      "5 x 7 = 35\n",
      "5 x 8 = 40\n",
      "5 x 9 = 45\n",
      "5 x 10 = 50\n"
     ]
    }
   ],
   "source": [
    "# Bài 8: Đọc số n (1 < n < 9), in bảng cửu chương n\n",
    "n = int(input(\"Nhập số n (1 < n < 9): \"))\n",
    "if 1 < n < 9:\n",
    "    for i in range(1, 11):\n",
    "        print(f\"{n} x {i} = {n*i}\")\n",
    "else:\n",
    "    print(\"n không hợp lệ!\")"
   ]
  },
  {
   "cell_type": "code",
   "execution_count": 8,
   "id": "223b4fcd",
   "metadata": {},
   "outputs": [
    {
     "name": "stdout",
     "output_type": "stream",
     "text": [
      "S = 10\n",
      "S1 = 16\n",
      "S2 = 20\n",
      "S3 = 30\n",
      "S4 = 2.0833\n"
     ]
    }
   ],
   "source": [
    "# Câu 9: Viết chương trình tính các tổng với n nguyên dương nhập từ bàn phím\n",
    "n = int(input(\"Nhập n: \"))\n",
    "\n",
    "# S = 1 + 2 + ... + n\n",
    "S = sum(range(1, n+1))\n",
    "print(\"S =\", S)\n",
    "\n",
    "# S1 = 1 + 3 + ... + (2n-1)\n",
    "S1 = sum(range(1, 2*n, 2))\n",
    "print(\"S1 =\", S1)\n",
    "\n",
    "# S2 = 2 + 4 + ... + 2n\n",
    "S2 = sum(range(2, 2*n+1, 2))\n",
    "print(\"S2 =\", S2)\n",
    "\n",
    "# S3 = 1^2 + 2^2 + ... + n^2\n",
    "S3 = sum(i**2 for i in range(1, n+1))\n",
    "print(\"S3 =\", S3)\n",
    "\n",
    "# S4 = 1/1 + 1/2 + ... + 1/n\n",
    "S4 = sum(1/i for i in range(1, n+1))\n",
    "print(\"S4 =\", round(S4, 4))"
   ]
  },
  {
   "cell_type": "code",
   "execution_count": 9,
   "id": "b8a833ab",
   "metadata": {},
   "outputs": [
    {
     "name": "stdout",
     "output_type": "stream",
     "text": [
      "2 x 1 = 2\t2 x 2 = 4\t2 x 3 = 6\t2 x 4 = 8\t2 x 5 = 10\t2 x 6 = 12\t2 x 7 = 14\t2 x 8 = 16\t2 x 9 = 18\t2 x 10 = 20\t\n",
      "3 x 1 = 3\t3 x 2 = 6\t3 x 3 = 9\t3 x 4 = 12\t3 x 5 = 15\t3 x 6 = 18\t3 x 7 = 21\t3 x 8 = 24\t3 x 9 = 27\t3 x 10 = 30\t\n",
      "4 x 1 = 4\t4 x 2 = 8\t4 x 3 = 12\t4 x 4 = 16\t4 x 5 = 20\t4 x 6 = 24\t4 x 7 = 28\t4 x 8 = 32\t4 x 9 = 36\t4 x 10 = 40\t\n",
      "5 x 1 = 5\t5 x 2 = 10\t5 x 3 = 15\t5 x 4 = 20\t5 x 5 = 25\t5 x 6 = 30\t5 x 7 = 35\t5 x 8 = 40\t5 x 9 = 45\t5 x 10 = 50\t\n",
      "6 x 1 = 6\t6 x 2 = 12\t6 x 3 = 18\t6 x 4 = 24\t6 x 5 = 30\t6 x 6 = 36\t6 x 7 = 42\t6 x 8 = 48\t6 x 9 = 54\t6 x 10 = 60\t\n",
      "7 x 1 = 7\t7 x 2 = 14\t7 x 3 = 21\t7 x 4 = 28\t7 x 5 = 35\t7 x 6 = 42\t7 x 7 = 49\t7 x 8 = 56\t7 x 9 = 63\t7 x 10 = 70\t\n",
      "8 x 1 = 8\t8 x 2 = 16\t8 x 3 = 24\t8 x 4 = 32\t8 x 5 = 40\t8 x 6 = 48\t8 x 7 = 56\t8 x 8 = 64\t8 x 9 = 72\t8 x 10 = 80\t\n",
      "9 x 1 = 9\t9 x 2 = 18\t9 x 3 = 27\t9 x 4 = 36\t9 x 5 = 45\t9 x 6 = 54\t9 x 7 = 63\t9 x 8 = 72\t9 x 9 = 81\t9 x 10 = 90\t\n"
     ]
    }
   ],
   "source": [
    "# Câu 10: In bảng cửu chương từ 2 đến 9\n",
    "for i in range(2, 10):\n",
    "    for j in range(1, 11):\n",
    "        print(f\"{i} x {j} = {i*j}\", end='\\t')\n",
    "    print()"
   ]
  },
  {
   "cell_type": "code",
   "execution_count": 10,
   "id": "3dac1b01",
   "metadata": {},
   "outputs": [
    {
     "name": "stdout",
     "output_type": "stream",
     "text": [
      "S(x, n) = 12.0\n"
     ]
    }
   ],
   "source": [
    "# Câu 11: Tính dãy số S(x, n) = x + x^2/2! + x^3/3! + ... + x^n/n!\n",
    "import math\n",
    "x = float(input(\"Nhập x: \"))\n",
    "n = int(input(\"Nhập n: \"))\n",
    "S = x\n",
    "for i in range(2, n+1):\n",
    "    S += x**i / math.factorial(i)\n",
    "print(\"S(x, n) =\", round(S, 4))"
   ]
  },
  {
   "cell_type": "code",
   "execution_count": 1,
   "id": "36c34dce",
   "metadata": {},
   "outputs": [
    {
     "name": "stdout",
     "output_type": "stream",
     "text": [
      "Số nhị phân là: 10\n"
     ]
    }
   ],
   "source": [
    "# Câu 12: Đổi số nguyên hệ thập phân ra nhị phân\n",
    "num = int(input(\"Nhập số nguyên cần đổi sang nhị phân: \"))\n",
    "print(\"Số nhị phân là:\", bin(num)[2:])"
   ]
  },
  {
   "cell_type": "code",
   "execution_count": 12,
   "id": "bcfc3d52",
   "metadata": {},
   "outputs": [
    {
     "name": "stdout",
     "output_type": "stream",
     "text": [
      "Phương trình vô nghiệm\n"
     ]
    }
   ],
   "source": [
    "# Câu 13: Giải phương trình bậc 2 dạng ax^2 + bx + c = 0 với a ≠ 0\n",
    "a = float(input(\"Nhập a (a ≠ 0): \"))\n",
    "b = float(input(\"Nhập b: \"))\n",
    "c = float(input(\"Nhập c: \"))\n",
    "delta = b**2 - 4*a*c\n",
    "if delta < 0:\n",
    "    print(\"Phương trình vô nghiệm\")\n",
    "elif delta == 0:\n",
    "    print(\"Phương trình có nghiệm kép:\", -b/(2*a))\n",
    "else:\n",
    "    x1 = (-b + math.sqrt(delta)) / (2*a)\n",
    "    x2 = (-b - math.sqrt(delta)) / (2*a)\n",
    "    print(\"Nghiệm x1 =\", round(x1, 2), \", x2 =\", round(x2, 2))"
   ]
  },
  {
   "cell_type": "code",
   "execution_count": 13,
   "id": "90955211",
   "metadata": {},
   "outputs": [
    {
     "name": "stdout",
     "output_type": "stream",
     "text": [
      "Bạn về nhà vào: Chủ nhật\n"
     ]
    }
   ],
   "source": [
    "# Câu 14: Tính ngày về sau 137 đêm, biết ngày đi là thứ tư\n",
    "ngay_di = 3  # Thứ tư (giả sử thứ 2 là 1, thứ 7 là 6, chủ nhật là 7)\n",
    "so_dem = 137\n",
    "ngay_ve = (ngay_di + so_dem) % 7\n",
    "thu = [\"Chủ nhật\", \"Thứ hai\", \"Thứ ba\", \"Thứ tư\", \"Thứ năm\", \"Thứ sáu\", \"Thứ bảy\"]\n",
    "print(\"Bạn về nhà vào:\", thu[ngay_ve])"
   ]
  },
  {
   "cell_type": "code",
   "execution_count": 14,
   "id": "12d17ccb",
   "metadata": {},
   "outputs": [
    {
     "name": "stdout",
     "output_type": "stream",
     "text": [
      "Dữ liệu không hợp lệ: cần đúng 3 số, ngăn cách bởi dấu phẩy.\n"
     ]
    }
   ],
   "source": [
    "# Câu 15: kiểm tra 3 cạnh có lập thành tam giác\n",
    "\n",
    "s = input(\"Nhập 3 số dương a,b,c (cách nhau bằng dấu phẩy): \")\n",
    "\n",
    "# Cho phép người dùng vô tình thêm khoảng trắng hoặc dùng ; \n",
    "parts = s.replace(\";\", \",\").split(\",\")\n",
    "parts = [p.strip() for p in parts if p.strip() != \"\"]\n",
    "\n",
    "if len(parts) != 3:\n",
    "    print(\"Dữ liệu không hợp lệ: cần đúng 3 số, ngăn cách bởi dấu phẩy.\")\n",
    "else:\n",
    "    try:\n",
    "        a, b, c = map(float, parts)\n",
    "        if a <= 0 or b <= 0 or c <= 0:\n",
    "            print(\"Dữ liệu không hợp lệ: mọi số phải dương (> 0).\")\n",
    "        else:\n",
    "            # Điều kiện tam giác: tổng hai cạnh lớn hơn cạnh còn lại (không lấy bằng)\n",
    "            if (a + b > c) and (a + c > b) and (b + c > a):\n",
    "                print(\"Có thể tạo thành một tam giác\")\n",
    "            else:\n",
    "                print(\"Không thể tạo thành một tam giác\")\n",
    "    except ValueError:\n",
    "        print(\"Dữ liệu không hợp lệ: vui lòng nhập số.\")"
   ]
  },
  {
   "cell_type": "code",
   "execution_count": 2,
   "id": "311f9c8c",
   "metadata": {},
   "outputs": [
    {
     "name": "stdout",
     "output_type": "stream",
     "text": [
      "Bộ dữ liệu ngày/tháng/năm hợp lý.\n"
     ]
    }
   ],
   "source": [
    "# Bài 16: Kiểm tra ngày, tháng, năm hợp lệ\n",
    "s = input(\"Nhập ngày, tháng, năm (cách nhau bằng dấu phẩy): \")\n",
    "parts = [x.strip() for x in s.replace(\";\", \",\").split(\",\") if x.strip() != \"\"]\n",
    "if len(parts) != 3:\n",
    "    print(\"Vui lòng nhập đúng 3 số (ngày, tháng, năm).\")\n",
    "else:\n",
    "    try:\n",
    "        day, month, year = map(int, parts)\n",
    "        hop_le = True\n",
    "        if year <= 0 or month < 1 or month > 12 or day < 1:\n",
    "            hop_le = False\n",
    "        else:\n",
    "            # Số ngày tối đa của từng tháng\n",
    "            if month in [1, 3, 5, 7, 8, 10, 12]:\n",
    "                max_day = 31\n",
    "            elif month in [4, 6, 9, 11]:\n",
    "                max_day = 30\n",
    "            elif month == 2:\n",
    "                # Kiểm tra năm nhuận\n",
    "                if (year % 4 == 0 and year % 100 != 0) or (year % 400 == 0):\n",
    "                    max_day = 29\n",
    "                else:\n",
    "                    max_day = 28\n",
    "            else:\n",
    "                max_day = 0\n",
    "            if day > max_day:\n",
    "                hop_le = False\n",
    "        if hop_le:\n",
    "            print(\"Bộ dữ liệu ngày/tháng/năm hợp lý.\")\n",
    "        else:\n",
    "            print(\"Bộ dữ liệu ngày/tháng/năm không hợp lý.\")\n",
    "    except ValueError:\n",
    "        print(\"Vui lòng nhập số nguyên hợp lệ.\")"
   ]
  },
  {
   "cell_type": "code",
   "execution_count": 3,
   "id": "7d17b4f7",
   "metadata": {},
   "outputs": [
    {
     "name": "stdout",
     "output_type": "stream",
     "text": [
      "a) Tổng 1 + 2 + ... + 2n = 55\n",
      "b) Tổng các số lẻ < n = 4\n",
      "c) Tổng các số chẵn < n = 6\n"
     ]
    }
   ],
   "source": [
    "# Bài 17: Nhập số tự nhiên n, tính các giá trị sau\n",
    "\n",
    "n = int(input(\"Nhập số tự nhiên n: \"))\n",
    "\n",
    "# a) Tính tổng 1 + 2 + ... + 2n\n",
    "tong_a = sum(range(1, 2*n + 1))\n",
    "print(\"a) Tổng 1 + 2 + ... + 2n =\", tong_a)\n",
    "\n",
    "# b) Tính tổng các số tự nhiên < n và là số lẻ\n",
    "tong_b = sum(i for i in range(1, n) if i % 2 == 1)\n",
    "print(\"b) Tổng các số lẻ < n =\", tong_b)\n",
    "\n",
    "# c) Tính tổng các số tự nhiên < n và là số chẵn\n",
    "tong_c = sum(i for i in range(1, n) if i % 2 == 0)\n",
    "print(\"c) Tổng các số chẵn < n =\", tong_c)"
   ]
  },
  {
   "cell_type": "code",
   "execution_count": 4,
   "id": "b921b21d",
   "metadata": {},
   "outputs": [
    {
     "name": "stdout",
     "output_type": "stream",
     "text": [
      "a) Tổng 1 + 2 + ... + 2n = 78\n",
      "b) Tổng các số lẻ < n = 9\n",
      "c) Tổng các số chẵn < n = 6\n"
     ]
    }
   ],
   "source": [
    "# Bài 17: Nhập số tự nhiên n, tính các giá trị sau\n",
    "\n",
    "n = int(input(\"Nhập số tự nhiên n: \"))\n",
    "\n",
    "# a) Tính tổng 1 + 2 + ... + 2n\n",
    "tong_a = sum(range(1, 2*n + 1))\n",
    "print(\"a) Tổng 1 + 2 + ... + 2n =\", tong_a)\n",
    "\n",
    "# b) Tính tổng các số tự nhiên < n và là số lẻ\n",
    "tong_b = sum(i for i in range(1, n) if i % 2 == 1)\n",
    "print(\"b) Tổng các số lẻ < n =\", tong_b)\n",
    "\n",
    "# c) Tính tổng các số tự nhiên < n và là số chẵn\n",
    "tong_c = sum(i for i in range(1, n) if i % 2 == 0)\n",
    "print(\"c) Tổng các số chẵn < n =\", tong_c)"
   ]
  },
  {
   "cell_type": "code",
   "execution_count": 5,
   "id": "660f0981",
   "metadata": {},
   "outputs": [
    {
     "name": "stdout",
     "output_type": "stream",
     "text": [
      "Tổng 1 + 2 + ... + n = 15\n",
      "Hai số này là nguyên tố cùng nhau\n",
      "0 giờ, 0 phút, 8 giây\n",
      "Giá trị tuyệt đối |a-b| = 1.0\n"
     ]
    }
   ],
   "source": [
    "# Bài 19: Viết các thủ tục thực hiện các công việc sau\n",
    "\n",
    "# a) Hàm tính tổng 1 + 2 + ... + n\n",
    "def tong_1_den_n(n):\n",
    "    return sum(range(1, n+1))\n",
    "\n",
    "# b) Hàm kiểm tra hai số nguyên tố cùng nhau\n",
    "def nguyen_to_cung_nhau(m, n):\n",
    "    import math\n",
    "    def gcd(a, b):\n",
    "        while b:\n",
    "            a, b = b, a % b\n",
    "        return a\n",
    "    if gcd(m, n) == 1:\n",
    "        print(\"Hai số này là nguyên tố cùng nhau\")\n",
    "    else:\n",
    "        print(\"Hai số này không là nguyên tố cùng nhau\")\n",
    "\n",
    "# c) Hàm chuyển đổi giây sang giờ, phút, giây\n",
    "def doi_sang_gio_phut_giay(s):\n",
    "    gio = s // 3600\n",
    "    phut = (s % 3600) // 60\n",
    "    giay = s % 60\n",
    "    print(f\"{gio} giờ, {phut} phút, {giay} giây\")\n",
    "\n",
    "# d) Hàm trả về giá trị tuyệt đối của hiệu hai số thực\n",
    "def tri_tuyet_doi(a, b):\n",
    "    return abs(a - b)\n",
    "\n",
    "# Ví dụ sử dụng:\n",
    "# a)\n",
    "n = int(input(\"Nhập n: \"))\n",
    "print(\"Tổng 1 + 2 + ... + n =\", tong_1_den_n(n))\n",
    "\n",
    "# b)\n",
    "m = int(input(\"Nhập m: \"))\n",
    "n2 = int(input(\"Nhập n: \"))\n",
    "nguyen_to_cung_nhau(m, n2)\n",
    "\n",
    "# c)\n",
    "s = int(input(\"Nhập số giây: \"))\n",
    "doi_sang_gio_phut_giay(s)\n",
    "\n",
    "# d)\n",
    "a = float(input(\"Nhập a: \"))\n",
    "b = float(input(\"Nhập b: \"))\n",
    "print(\"Giá trị tuyệt đối |a-b| =\", tri_tuyet_doi(a, b))"
   ]
  },
  {
   "cell_type": "code",
   "execution_count": 6,
   "id": "ea197e12",
   "metadata": {},
   "outputs": [
    {
     "name": "stdout",
     "output_type": "stream",
     "text": [
      "Ước chung lớn nhất của m và n là: 1\n"
     ]
    }
   ],
   "source": [
    "# Bài 20: Viết hàm số f(m, n) trả về ước chung lớn nhất của m và n, nếu không có thì trả về 0\n",
    "\n",
    "def f(m, n):\n",
    "    # Tìm ước chung lớn nhất (GCD)\n",
    "    def gcd(a, b):\n",
    "        while b:\n",
    "            a, b = b, a % b\n",
    "        return a\n",
    "    ucln = gcd(m, n)\n",
    "    # Nếu không có ước chung (chỉ xảy ra khi cả hai là 0)\n",
    "    if ucln == 0:\n",
    "        return 0\n",
    "    else:\n",
    "        return ucln\n",
    "\n",
    "# Ví dụ sử dụng:\n",
    "m = int(input(\"Nhập m: \"))\n",
    "n = int(input(\"Nhập n: \"))\n",
    "print(\"Ước chung lớn nhất của m và n là:\", f(m, n))"
   ]
  }
 ],
 "metadata": {
  "kernelspec": {
   "display_name": "Python 3",
   "language": "python",
   "name": "python3"
  },
  "language_info": {
   "codemirror_mode": {
    "name": "ipython",
    "version": 3
   },
   "file_extension": ".py",
   "mimetype": "text/x-python",
   "name": "python",
   "nbconvert_exporter": "python",
   "pygments_lexer": "ipython3",
   "version": "3.9.6"
  }
 },
 "nbformat": 4,
 "nbformat_minor": 5
}
